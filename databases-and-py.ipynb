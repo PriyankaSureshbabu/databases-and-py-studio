{
    "metadata": {
        "kernelspec": {
            "name": "python3",
            "display_name": "Python 3 (ipykernel)",
            "language": "python"
        },
        "language_info": {
            "name": "python",
            "version": "3.10.9",
            "mimetype": "text/x-python",
            "codemirror_mode": {
                "name": "ipython",
                "version": 3
            },
            "pygments_lexer": "ipython3",
            "nbconvert_exporter": "python",
            "file_extension": ".py"
        }
    },
    "nbformat_minor": 2,
    "nbformat": 4,
    "cells": [
        {
            "cell_type": "markdown",
            "source": [
                "# Studio: Working with Databases in Python\n",
                "\n",
                "For today's studio, we will be using the [TV Shows dataset](https://www.kaggle.com/ruchi798/tv-shows-on-netflix-prime-video-hulu-and-disney) from Kaggle. We have already downloaded the CSV for you.\n",
                "\n",
                "You will also be using the watchlist you just created to figure out which streaming services contain the shows that you want to watch next so you can decide which one is worth the money to you.\n",
                "\n",
                "As you complete the different tasks in the studio, you may choose between using Pandas or SQL. Remember that during the prep work, we learned that one is oftentimes more efficient at certain tasks than the other, so choose wisely!"
            ],
            "metadata": {
                "azdata_cell_guid": "54326aff-51cd-4766-8046-828a92489c6d"
            },
            "attachments": {}
        },
        {
            "cell_type": "markdown",
            "source": [
                "## My Watchlist\n",
                "\n",
                "If you would like, please use this space to make note of your watchlist by editing the text cell."
            ],
            "metadata": {
                "azdata_cell_guid": "00bc62ef-6c46-40a2-bdad-a3250a003ce7"
            },
            "attachments": {}
        },
        {
            "cell_type": "markdown",
            "source": [
                "## Database Setup\n",
                "\n",
                "To start with, import the necessary libraries and create a dataframe from the provided CSV. Print the info out for the dataframe. After that, you may drop the column called `Unnamed: 0` and rename any columns with spaces in the names or unusual characters such as `\"+\"`. Print out the info for the dataframe again to ensure that your changes were effective."
            ],
            "metadata": {
                "azdata_cell_guid": "040bdac5-f7fc-474f-b112-1d807249ad0a"
            }
        },
        {
            "cell_type": "code",
            "source": [
                "import pandas as pd\r\n",
                "import sqlite3\r\n",
                "\r\n",
                "import pandas as pd\r\n",
                "import sqlite3 as sl\r\n",
                "\r\n",
                "df = pd.read_csv('tv_shows.csv')\r\n",
                "df"
            ],
            "metadata": {
                "azdata_cell_guid": "965f15d3-27b1-43ed-97e4-8c6fd482476c",
                "tags": [],
                "language": "python"
            },
            "outputs": [
                {
                    "data": {
                        "text/plain": "      Unnamed: 0    ID                                  Title  Year  Age  \\\n0              0     1                           Breaking Bad  2008  18+   \n1              1     2                        Stranger Things  2016  16+   \n2              2     3                        Attack on Titan  2013  18+   \n3              3     4                       Better Call Saul  2015  18+   \n4              4     5                                   Dark  2017  16+   \n...          ...   ...                                    ...   ...  ...   \n5363        5363  5713                       Paradise Islands  2017  NaN   \n5364        5364  5714                         Mexico Untamed  2018  NaN   \n5365        5365  5715                  Wild Centeral America  2020  NaN   \n5366        5366  5716                            Wild Russia  2018  NaN   \n5367        5367  5717  Fearless Adventures with Jack Randall  2018  NaN   \n\n        IMDb Rotten Tomatoes  Netflix  Hulu  Prime Video  Disney+  Type  \n0     9.4/10         100/100        1     0            0        0     1  \n1     8.7/10          96/100        1     0            0        0     1  \n2     9.0/10          95/100        1     1            0        0     1  \n3     8.8/10          94/100        1     0            0        0     1  \n4     8.8/10          93/100        1     0            0        0     1  \n...      ...             ...      ...   ...          ...      ...   ...  \n5363     NaN          10/100        0     0            0        1     1  \n5364     NaN          10/100        0     0            0        1     1  \n5365     NaN          10/100        0     0            0        1     1  \n5366     NaN          10/100        0     0            0        1     1  \n5367     NaN          10/100        0     0            0        1     1  \n\n[5368 rows x 12 columns]",
                        "text/html": "<div>\n<style scoped>\n    .dataframe tbody tr th:only-of-type {\n        vertical-align: middle;\n    }\n\n    .dataframe tbody tr th {\n        vertical-align: top;\n    }\n\n    .dataframe thead th {\n        text-align: right;\n    }\n</style>\n<table border=\"1\" class=\"dataframe\">\n  <thead>\n    <tr style=\"text-align: right;\">\n      <th></th>\n      <th>Unnamed: 0</th>\n      <th>ID</th>\n      <th>Title</th>\n      <th>Year</th>\n      <th>Age</th>\n      <th>IMDb</th>\n      <th>Rotten Tomatoes</th>\n      <th>Netflix</th>\n      <th>Hulu</th>\n      <th>Prime Video</th>\n      <th>Disney+</th>\n      <th>Type</th>\n    </tr>\n  </thead>\n  <tbody>\n    <tr>\n      <th>0</th>\n      <td>0</td>\n      <td>1</td>\n      <td>Breaking Bad</td>\n      <td>2008</td>\n      <td>18+</td>\n      <td>9.4/10</td>\n      <td>100/100</td>\n      <td>1</td>\n      <td>0</td>\n      <td>0</td>\n      <td>0</td>\n      <td>1</td>\n    </tr>\n    <tr>\n      <th>1</th>\n      <td>1</td>\n      <td>2</td>\n      <td>Stranger Things</td>\n      <td>2016</td>\n      <td>16+</td>\n      <td>8.7/10</td>\n      <td>96/100</td>\n      <td>1</td>\n      <td>0</td>\n      <td>0</td>\n      <td>0</td>\n      <td>1</td>\n    </tr>\n    <tr>\n      <th>2</th>\n      <td>2</td>\n      <td>3</td>\n      <td>Attack on Titan</td>\n      <td>2013</td>\n      <td>18+</td>\n      <td>9.0/10</td>\n      <td>95/100</td>\n      <td>1</td>\n      <td>1</td>\n      <td>0</td>\n      <td>0</td>\n      <td>1</td>\n    </tr>\n    <tr>\n      <th>3</th>\n      <td>3</td>\n      <td>4</td>\n      <td>Better Call Saul</td>\n      <td>2015</td>\n      <td>18+</td>\n      <td>8.8/10</td>\n      <td>94/100</td>\n      <td>1</td>\n      <td>0</td>\n      <td>0</td>\n      <td>0</td>\n      <td>1</td>\n    </tr>\n    <tr>\n      <th>4</th>\n      <td>4</td>\n      <td>5</td>\n      <td>Dark</td>\n      <td>2017</td>\n      <td>16+</td>\n      <td>8.8/10</td>\n      <td>93/100</td>\n      <td>1</td>\n      <td>0</td>\n      <td>0</td>\n      <td>0</td>\n      <td>1</td>\n    </tr>\n    <tr>\n      <th>...</th>\n      <td>...</td>\n      <td>...</td>\n      <td>...</td>\n      <td>...</td>\n      <td>...</td>\n      <td>...</td>\n      <td>...</td>\n      <td>...</td>\n      <td>...</td>\n      <td>...</td>\n      <td>...</td>\n      <td>...</td>\n    </tr>\n    <tr>\n      <th>5363</th>\n      <td>5363</td>\n      <td>5713</td>\n      <td>Paradise Islands</td>\n      <td>2017</td>\n      <td>NaN</td>\n      <td>NaN</td>\n      <td>10/100</td>\n      <td>0</td>\n      <td>0</td>\n      <td>0</td>\n      <td>1</td>\n      <td>1</td>\n    </tr>\n    <tr>\n      <th>5364</th>\n      <td>5364</td>\n      <td>5714</td>\n      <td>Mexico Untamed</td>\n      <td>2018</td>\n      <td>NaN</td>\n      <td>NaN</td>\n      <td>10/100</td>\n      <td>0</td>\n      <td>0</td>\n      <td>0</td>\n      <td>1</td>\n      <td>1</td>\n    </tr>\n    <tr>\n      <th>5365</th>\n      <td>5365</td>\n      <td>5715</td>\n      <td>Wild Centeral America</td>\n      <td>2020</td>\n      <td>NaN</td>\n      <td>NaN</td>\n      <td>10/100</td>\n      <td>0</td>\n      <td>0</td>\n      <td>0</td>\n      <td>1</td>\n      <td>1</td>\n    </tr>\n    <tr>\n      <th>5366</th>\n      <td>5366</td>\n      <td>5716</td>\n      <td>Wild Russia</td>\n      <td>2018</td>\n      <td>NaN</td>\n      <td>NaN</td>\n      <td>10/100</td>\n      <td>0</td>\n      <td>0</td>\n      <td>0</td>\n      <td>1</td>\n      <td>1</td>\n    </tr>\n    <tr>\n      <th>5367</th>\n      <td>5367</td>\n      <td>5717</td>\n      <td>Fearless Adventures with Jack Randall</td>\n      <td>2018</td>\n      <td>NaN</td>\n      <td>NaN</td>\n      <td>10/100</td>\n      <td>0</td>\n      <td>0</td>\n      <td>0</td>\n      <td>1</td>\n      <td>1</td>\n    </tr>\n  </tbody>\n</table>\n<p>5368 rows × 12 columns</p>\n</div>"
                    },
                    "metadata": {},
                    "execution_count": 1,
                    "output_type": "execute_result"
                }
            ],
            "execution_count": 1
        },
        {
            "cell_type": "markdown",
            "source": [
                "With your dataframe at the ready, create a new database called `tv`. Add a new table to your database called `shows` using the data in the dataframe. "
            ],
            "metadata": {
                "azdata_cell_guid": "93875e01-f1ec-45ab-b8b3-c0fe09c89c41"
            },
            "attachments": {}
        },
        {
            "cell_type": "code",
            "source": [
                "df.drop(['Unnamed: 0'], axis = 1, inplace = True)\r\n",
                "df.rename(columns={'Disney+':'Disney Plus'}, inplace=True)\r\n",
                "df"
            ],
            "metadata": {
                "azdata_cell_guid": "cae4affc-d930-4649-9c39-551475a83b5b",
                "tags": [],
                "language": "python"
            },
            "outputs": [
                {
                    "data": {
                        "text/plain": "        ID                                  Title  Year  Age    IMDb  \\\n0        1                           Breaking Bad  2008  18+  9.4/10   \n1        2                        Stranger Things  2016  16+  8.7/10   \n2        3                        Attack on Titan  2013  18+  9.0/10   \n3        4                       Better Call Saul  2015  18+  8.8/10   \n4        5                                   Dark  2017  16+  8.8/10   \n...    ...                                    ...   ...  ...     ...   \n5363  5713                       Paradise Islands  2017  NaN     NaN   \n5364  5714                         Mexico Untamed  2018  NaN     NaN   \n5365  5715                  Wild Centeral America  2020  NaN     NaN   \n5366  5716                            Wild Russia  2018  NaN     NaN   \n5367  5717  Fearless Adventures with Jack Randall  2018  NaN     NaN   \n\n     Rotten Tomatoes  Netflix  Hulu  Prime Video  Disney Plus  Type  \n0            100/100        1     0            0            0     1  \n1             96/100        1     0            0            0     1  \n2             95/100        1     1            0            0     1  \n3             94/100        1     0            0            0     1  \n4             93/100        1     0            0            0     1  \n...              ...      ...   ...          ...          ...   ...  \n5363          10/100        0     0            0            1     1  \n5364          10/100        0     0            0            1     1  \n5365          10/100        0     0            0            1     1  \n5366          10/100        0     0            0            1     1  \n5367          10/100        0     0            0            1     1  \n\n[5368 rows x 11 columns]",
                        "text/html": "<div>\n<style scoped>\n    .dataframe tbody tr th:only-of-type {\n        vertical-align: middle;\n    }\n\n    .dataframe tbody tr th {\n        vertical-align: top;\n    }\n\n    .dataframe thead th {\n        text-align: right;\n    }\n</style>\n<table border=\"1\" class=\"dataframe\">\n  <thead>\n    <tr style=\"text-align: right;\">\n      <th></th>\n      <th>ID</th>\n      <th>Title</th>\n      <th>Year</th>\n      <th>Age</th>\n      <th>IMDb</th>\n      <th>Rotten Tomatoes</th>\n      <th>Netflix</th>\n      <th>Hulu</th>\n      <th>Prime Video</th>\n      <th>Disney Plus</th>\n      <th>Type</th>\n    </tr>\n  </thead>\n  <tbody>\n    <tr>\n      <th>0</th>\n      <td>1</td>\n      <td>Breaking Bad</td>\n      <td>2008</td>\n      <td>18+</td>\n      <td>9.4/10</td>\n      <td>100/100</td>\n      <td>1</td>\n      <td>0</td>\n      <td>0</td>\n      <td>0</td>\n      <td>1</td>\n    </tr>\n    <tr>\n      <th>1</th>\n      <td>2</td>\n      <td>Stranger Things</td>\n      <td>2016</td>\n      <td>16+</td>\n      <td>8.7/10</td>\n      <td>96/100</td>\n      <td>1</td>\n      <td>0</td>\n      <td>0</td>\n      <td>0</td>\n      <td>1</td>\n    </tr>\n    <tr>\n      <th>2</th>\n      <td>3</td>\n      <td>Attack on Titan</td>\n      <td>2013</td>\n      <td>18+</td>\n      <td>9.0/10</td>\n      <td>95/100</td>\n      <td>1</td>\n      <td>1</td>\n      <td>0</td>\n      <td>0</td>\n      <td>1</td>\n    </tr>\n    <tr>\n      <th>3</th>\n      <td>4</td>\n      <td>Better Call Saul</td>\n      <td>2015</td>\n      <td>18+</td>\n      <td>8.8/10</td>\n      <td>94/100</td>\n      <td>1</td>\n      <td>0</td>\n      <td>0</td>\n      <td>0</td>\n      <td>1</td>\n    </tr>\n    <tr>\n      <th>4</th>\n      <td>5</td>\n      <td>Dark</td>\n      <td>2017</td>\n      <td>16+</td>\n      <td>8.8/10</td>\n      <td>93/100</td>\n      <td>1</td>\n      <td>0</td>\n      <td>0</td>\n      <td>0</td>\n      <td>1</td>\n    </tr>\n    <tr>\n      <th>...</th>\n      <td>...</td>\n      <td>...</td>\n      <td>...</td>\n      <td>...</td>\n      <td>...</td>\n      <td>...</td>\n      <td>...</td>\n      <td>...</td>\n      <td>...</td>\n      <td>...</td>\n      <td>...</td>\n    </tr>\n    <tr>\n      <th>5363</th>\n      <td>5713</td>\n      <td>Paradise Islands</td>\n      <td>2017</td>\n      <td>NaN</td>\n      <td>NaN</td>\n      <td>10/100</td>\n      <td>0</td>\n      <td>0</td>\n      <td>0</td>\n      <td>1</td>\n      <td>1</td>\n    </tr>\n    <tr>\n      <th>5364</th>\n      <td>5714</td>\n      <td>Mexico Untamed</td>\n      <td>2018</td>\n      <td>NaN</td>\n      <td>NaN</td>\n      <td>10/100</td>\n      <td>0</td>\n      <td>0</td>\n      <td>0</td>\n      <td>1</td>\n      <td>1</td>\n    </tr>\n    <tr>\n      <th>5365</th>\n      <td>5715</td>\n      <td>Wild Centeral America</td>\n      <td>2020</td>\n      <td>NaN</td>\n      <td>NaN</td>\n      <td>10/100</td>\n      <td>0</td>\n      <td>0</td>\n      <td>0</td>\n      <td>1</td>\n      <td>1</td>\n    </tr>\n    <tr>\n      <th>5366</th>\n      <td>5716</td>\n      <td>Wild Russia</td>\n      <td>2018</td>\n      <td>NaN</td>\n      <td>NaN</td>\n      <td>10/100</td>\n      <td>0</td>\n      <td>0</td>\n      <td>0</td>\n      <td>1</td>\n      <td>1</td>\n    </tr>\n    <tr>\n      <th>5367</th>\n      <td>5717</td>\n      <td>Fearless Adventures with Jack Randall</td>\n      <td>2018</td>\n      <td>NaN</td>\n      <td>NaN</td>\n      <td>10/100</td>\n      <td>0</td>\n      <td>0</td>\n      <td>0</td>\n      <td>1</td>\n      <td>1</td>\n    </tr>\n  </tbody>\n</table>\n<p>5368 rows × 11 columns</p>\n</div>"
                    },
                    "metadata": {},
                    "execution_count": 2,
                    "output_type": "execute_result"
                }
            ],
            "execution_count": 2
        },
        {
            "cell_type": "code",
            "source": [
                "con = sl.connect('tv.db')\r\n",
                "df.to_sql('shows1', con)"
            ],
            "metadata": {
                "language": "python",
                "azdata_cell_guid": "8dd07d63-ea1d-4036-bbb9-5326eeadfeb2"
            },
            "outputs": [
                {
                    "data": {
                        "text/plain": "5368"
                    },
                    "metadata": {},
                    "execution_count": 4,
                    "output_type": "execute_result"
                }
            ],
            "execution_count": 4
        },
        {
            "cell_type": "markdown",
            "source": [
                "With your new table and database set up, print out the top 20 records in the `shows` table."
            ],
            "metadata": {
                "azdata_cell_guid": "4916f211-149f-467b-b5e4-22ad946b54f2"
            },
            "attachments": {}
        },
        {
            "cell_type": "code",
            "source": [
                "with con:\r\n",
                "    top20shows = con.execute(\"\"\"\r\n",
                "        SELECT *\r\n",
                "        FROM shows1\r\n",
                "        LIMIT 20\r\n",
                "        \"\"\")\r\n",
                "    for row in top20shows:\r\n",
                "        print(row)"
            ],
            "metadata": {
                "azdata_cell_guid": "c6aa3980-3eef-4d7d-8f04-961508662147",
                "tags": [],
                "language": "python"
            },
            "outputs": [
                {
                    "name": "stdout",
                    "text": "(0, 1, 'Breaking Bad', 2008, '18+', '9.4/10', '100/100', 1, 0, 0, 0, 1)\n(1, 2, 'Stranger Things', 2016, '16+', '8.7/10', '96/100', 1, 0, 0, 0, 1)\n(2, 3, 'Attack on Titan', 2013, '18+', '9.0/10', '95/100', 1, 1, 0, 0, 1)\n(3, 4, 'Better Call Saul', 2015, '18+', '8.8/10', '94/100', 1, 0, 0, 0, 1)\n(4, 5, 'Dark', 2017, '16+', '8.8/10', '93/100', 1, 0, 0, 0, 1)\n(5, 6, 'Avatar: The Last Airbender', 2005, '7+', '9.3/10', '93/100', 1, 0, 1, 0, 1)\n(6, 7, 'Peaky Blinders', 2013, '18+', '8.8/10', '93/100', 1, 0, 0, 0, 1)\n(7, 8, 'The Walking Dead', 2010, '18+', '8.2/10', '93/100', 1, 0, 0, 0, 1)\n(8, 9, 'Black Mirror', 2011, '18+', '8.8/10', '92/100', 1, 0, 0, 0, 1)\n(9, 10, \"The Queen's Gambit\", 2020, '18+', '8.6/10', '92/100', 1, 0, 0, 0, 1)\n(10, 11, 'Mindhunter', 2017, '18+', '8.6/10', '90/100', 1, 0, 0, 0, 1)\n(11, 12, 'Community', 2009, '7+', '8.5/10', '90/100', 1, 1, 1, 0, 1)\n(12, 13, 'Narcos', 2015, '18+', '8.8/10', '90/100', 1, 0, 0, 0, 1)\n(13, 14, 'Shameless', 2011, '18+', '8.5/10', '90/100', 1, 1, 1, 0, 1)\n(14, 15, 'Money Heist', 2017, '18+', '8.3/10', '90/100', 1, 0, 0, 0, 1)\n(15, 16, \"Marvel's Daredevil\", 2015, '18+', '8.6/10', '90/100', 1, 0, 0, 0, 1)\n(16, 17, 'Lucifer', 2016, '16+', '8.1/10', '90/100', 1, 0, 0, 0, 1)\n(17, 18, 'Supernatural', 2005, '16+', '8.4/10', '89/100', 1, 0, 0, 0, 1)\n(18, 19, 'The Witcher', 2019, '18+', '8.2/10', '89/100', 1, 0, 0, 0, 1)\n(19, 20, 'Ozark', 2017, '18+', '8.4/10', '89/100', 1, 0, 0, 0, 1)\n",
                    "output_type": "stream"
                }
            ],
            "execution_count": 5
        },
        {
            "cell_type": "markdown",
            "source": [
                "Now add a table that includes an id number and the titles on your watchlist."
            ],
            "metadata": {
                "azdata_cell_guid": "f158ccd2-c87a-4d2c-a947-0eadd0484a3e"
            },
            "attachments": {}
        },
        {
            "cell_type": "code",
            "source": [
                "with con:\r\n",
                "    con.execute(\"\"\"\r\n",
                "        CREATE TABLE watchlist1(\r\n",
                "            Id INTEGER NOT NULL PRIMARY KEY AUTOINCREMENT,\r\n",
                "            Title TEXT\r\n",
                "        )\r\n",
                "    \"\"\")"
            ],
            "metadata": {
                "azdata_cell_guid": "f95defad-521b-4112-8435-08daaac80b80",
                "language": "python"
            },
            "outputs": [],
            "execution_count": 6
        },
        {
            "cell_type": "code",
            "source": [
                "sql = 'INSERT INTO watchlist1 (Id, Title) values (?, ?)'\r\n",
                "data = [\r\n",
                "    (1, 'The Office'),\r\n",
                "    (2, 'Seinfield'),\r\n",
                "    (3, 'Scrubs'),\r\n",
                "    (4, 'New Girl'),\r\n",
                "    (5, 'Criminal Minds'),\r\n",
                "    (6, 'Letterkenny'),\r\n",
                "    (7, 'CSI'),\r\n",
                "    (8, 'Friends'),\r\n",
                "    (9, 'Alone'),\r\n",
                "    (10, 'Game of Thrones')\r\n",
                "]\r\n",
                "with con:\r\n",
                "    con.executemany(sql, data)"
            ],
            "metadata": {
                "language": "python",
                "azdata_cell_guid": "33064ae3-837a-40bb-80b4-756e004048f9"
            },
            "outputs": [],
            "execution_count": 7
        },
        {
            "cell_type": "code",
            "source": [
                "pd.read_sql_query('SELECT * FROM watchlist1', con)"
            ],
            "metadata": {
                "language": "python",
                "azdata_cell_guid": "0e28d710-5267-49bc-acbb-ae1da1f58cda"
            },
            "outputs": [
                {
                    "data": {
                        "text/plain": "   Id            Title\n0   1       The Office\n1   2        Seinfield\n2   3           Scrubs\n3   4         New Girl\n4   5   Criminal Minds\n5   6      Letterkenny\n6   7              CSI\n7   8          Friends\n8   9            Alone\n9  10  Game of Thrones",
                        "text/html": "<div>\n<style scoped>\n    .dataframe tbody tr th:only-of-type {\n        vertical-align: middle;\n    }\n\n    .dataframe tbody tr th {\n        vertical-align: top;\n    }\n\n    .dataframe thead th {\n        text-align: right;\n    }\n</style>\n<table border=\"1\" class=\"dataframe\">\n  <thead>\n    <tr style=\"text-align: right;\">\n      <th></th>\n      <th>Id</th>\n      <th>Title</th>\n    </tr>\n  </thead>\n  <tbody>\n    <tr>\n      <th>0</th>\n      <td>1</td>\n      <td>The Office</td>\n    </tr>\n    <tr>\n      <th>1</th>\n      <td>2</td>\n      <td>Seinfield</td>\n    </tr>\n    <tr>\n      <th>2</th>\n      <td>3</td>\n      <td>Scrubs</td>\n    </tr>\n    <tr>\n      <th>3</th>\n      <td>4</td>\n      <td>New Girl</td>\n    </tr>\n    <tr>\n      <th>4</th>\n      <td>5</td>\n      <td>Criminal Minds</td>\n    </tr>\n    <tr>\n      <th>5</th>\n      <td>6</td>\n      <td>Letterkenny</td>\n    </tr>\n    <tr>\n      <th>6</th>\n      <td>7</td>\n      <td>CSI</td>\n    </tr>\n    <tr>\n      <th>7</th>\n      <td>8</td>\n      <td>Friends</td>\n    </tr>\n    <tr>\n      <th>8</th>\n      <td>9</td>\n      <td>Alone</td>\n    </tr>\n    <tr>\n      <th>9</th>\n      <td>10</td>\n      <td>Game of Thrones</td>\n    </tr>\n  </tbody>\n</table>\n</div>"
                    },
                    "metadata": {},
                    "execution_count": 8,
                    "output_type": "execute_result"
                }
            ],
            "execution_count": 8
        },
        {
            "cell_type": "markdown",
            "source": [
                "## Working with the Data\n",
                "\n",
                "Using either Pandas or SQL, determine how many shows are on each streaming service and what the mean is for each streaming service. \n",
                "\n",
                "**Note**: You may notice that the mean represents the percentage of shows in the dataframe that are on each streaming service. Take a moment to think about why that is."
            ],
            "metadata": {
                "azdata_cell_guid": "4716090d-63e3-4283-8245-934c4a28c750"
            },
            "attachments": {}
        },
        {
            "cell_type": "code",
            "source": [
                "cols=['Netflix','Hulu','Prime Video','Disney Plus']\r\n",
                "df2 = df[cols].mean()\r\n",
                "df2"
            ],
            "metadata": {
                "azdata_cell_guid": "8e4f3757-474f-4e20-b861-db973437b541",
                "language": "python"
            },
            "outputs": [
                {
                    "data": {
                        "text/plain": "Netflix        0.367176\nHulu           0.301975\nPrime Video    0.341095\nDisney Plus    0.065387\ndtype: float64"
                    },
                    "metadata": {},
                    "execution_count": 9,
                    "output_type": "execute_result"
                }
            ],
            "execution_count": 9
        },
        {
            "cell_type": "markdown",
            "source": [
                "Join your watchlist data with the shows data to determine which streaming services your watchlist shows are on and make a new table in your database using the joined data. Print out the data in your joined table to see what shows on your watchlist on in the original dataset. With the joined data, determine the percentage of your watchlist shows that are on each streaming service and how many of your watchlist shows are on each streaming service."
            ],
            "metadata": {
                "azdata_cell_guid": "167cbd0d-ad9f-4f27-8066-e45dfdfaf421"
            },
            "attachments": {}
        },
        {
            "cell_type": "code",
            "source": [
                "df3 = pd.read_sql_query('SELECT * FROM shows1 JOIN watchlist1 ON shows1.Title = watchlist1.Title', con)\r\n",
                "df3"
            ],
            "metadata": {
                "azdata_cell_guid": "2716ff7d-cac6-4c6e-b2a1-90dcda22cd0e",
                "language": "python"
            },
            "outputs": [
                {
                    "data": {
                        "text/plain": "   index    ID           Title  Year  Age    IMDb Rotten Tomatoes  Netflix  \\\n0     52    53        New Girl  2011  16+  7.7/10          85/100        1   \n1    147   148           Alone  2015  16+  8.4/10          77/100        1   \n2   1975  1990          Scrubs  2001  16+  8.3/10          87/100        0   \n3   1990  2010      The Office  2001  16+  8.5/10          84/100        0   \n4   2015  2042  Criminal Minds  2005  16+  8.0/10          81/100        0   \n5   2108  2145     Letterkenny  2016  18+  8.6/10          74/100        0   \n\n   Hulu  Prime Video  Disney Plus  Type  Id           Title  \n0     0            0            0     1   4        New Girl  \n1     1            0            0     1   9           Alone  \n2     1            1            0     1   3          Scrubs  \n3     1            1            0     1   1      The Office  \n4     1            0            0     1   5  Criminal Minds  \n5     1            0            0     1   6     Letterkenny  ",
                        "text/html": "<div>\n<style scoped>\n    .dataframe tbody tr th:only-of-type {\n        vertical-align: middle;\n    }\n\n    .dataframe tbody tr th {\n        vertical-align: top;\n    }\n\n    .dataframe thead th {\n        text-align: right;\n    }\n</style>\n<table border=\"1\" class=\"dataframe\">\n  <thead>\n    <tr style=\"text-align: right;\">\n      <th></th>\n      <th>index</th>\n      <th>ID</th>\n      <th>Title</th>\n      <th>Year</th>\n      <th>Age</th>\n      <th>IMDb</th>\n      <th>Rotten Tomatoes</th>\n      <th>Netflix</th>\n      <th>Hulu</th>\n      <th>Prime Video</th>\n      <th>Disney Plus</th>\n      <th>Type</th>\n      <th>Id</th>\n      <th>Title</th>\n    </tr>\n  </thead>\n  <tbody>\n    <tr>\n      <th>0</th>\n      <td>52</td>\n      <td>53</td>\n      <td>New Girl</td>\n      <td>2011</td>\n      <td>16+</td>\n      <td>7.7/10</td>\n      <td>85/100</td>\n      <td>1</td>\n      <td>0</td>\n      <td>0</td>\n      <td>0</td>\n      <td>1</td>\n      <td>4</td>\n      <td>New Girl</td>\n    </tr>\n    <tr>\n      <th>1</th>\n      <td>147</td>\n      <td>148</td>\n      <td>Alone</td>\n      <td>2015</td>\n      <td>16+</td>\n      <td>8.4/10</td>\n      <td>77/100</td>\n      <td>1</td>\n      <td>1</td>\n      <td>0</td>\n      <td>0</td>\n      <td>1</td>\n      <td>9</td>\n      <td>Alone</td>\n    </tr>\n    <tr>\n      <th>2</th>\n      <td>1975</td>\n      <td>1990</td>\n      <td>Scrubs</td>\n      <td>2001</td>\n      <td>16+</td>\n      <td>8.3/10</td>\n      <td>87/100</td>\n      <td>0</td>\n      <td>1</td>\n      <td>1</td>\n      <td>0</td>\n      <td>1</td>\n      <td>3</td>\n      <td>Scrubs</td>\n    </tr>\n    <tr>\n      <th>3</th>\n      <td>1990</td>\n      <td>2010</td>\n      <td>The Office</td>\n      <td>2001</td>\n      <td>16+</td>\n      <td>8.5/10</td>\n      <td>84/100</td>\n      <td>0</td>\n      <td>1</td>\n      <td>1</td>\n      <td>0</td>\n      <td>1</td>\n      <td>1</td>\n      <td>The Office</td>\n    </tr>\n    <tr>\n      <th>4</th>\n      <td>2015</td>\n      <td>2042</td>\n      <td>Criminal Minds</td>\n      <td>2005</td>\n      <td>16+</td>\n      <td>8.0/10</td>\n      <td>81/100</td>\n      <td>0</td>\n      <td>1</td>\n      <td>0</td>\n      <td>0</td>\n      <td>1</td>\n      <td>5</td>\n      <td>Criminal Minds</td>\n    </tr>\n    <tr>\n      <th>5</th>\n      <td>2108</td>\n      <td>2145</td>\n      <td>Letterkenny</td>\n      <td>2016</td>\n      <td>18+</td>\n      <td>8.6/10</td>\n      <td>74/100</td>\n      <td>0</td>\n      <td>1</td>\n      <td>0</td>\n      <td>0</td>\n      <td>1</td>\n      <td>6</td>\n      <td>Letterkenny</td>\n    </tr>\n  </tbody>\n</table>\n</div>"
                    },
                    "metadata": {},
                    "execution_count": 13,
                    "output_type": "execute_result"
                }
            ],
            "execution_count": 13
        },
        {
            "cell_type": "code",
            "source": [
                "cols=['Netflix', 'Hulu', 'Prime Video', 'Disney Plus']\r\n",
                "df4 = df3[cols].mean()\r\n",
                "df4"
            ],
            "metadata": {
                "language": "python",
                "azdata_cell_guid": "18085233-6a1a-4e9f-8ceb-e92af314acce"
            },
            "outputs": [
                {
                    "data": {
                        "text/plain": "Netflix        0.333333\nHulu           0.833333\nPrime Video    0.333333\nDisney Plus    0.000000\ndtype: float64"
                    },
                    "metadata": {},
                    "execution_count": 14,
                    "output_type": "execute_result"
                }
            ],
            "execution_count": 14
        },
        {
            "cell_type": "markdown",
            "source": [
                "## Results\n",
                "\n",
                "Now that you have done your analysis, make note of the answers to the following questions by editing the text cell:\n",
                "\n",
                "1. Was every show on your watchlist in the Kaggle dataset? Do you have any ideas as to why a show might not have been present?\n",
                "2. Did you include a show or shows in your watchlist that is exclusive to one of the platforms? How might that have impacted your analysis?\n",
                "2. Which streaming service(s) offered the most shows on your watchlist? Which streaming service(s) offered the least?\n",
                "3. Based on the shows you want to watch and the results of your analysis, is there a streaming service you think would be a good fit for you?"
            ],
            "metadata": {
                "azdata_cell_guid": "909689e4-1aae-41e3-b1f8-158ebe5ec3ca"
            }
        },
        {
            "cell_type": "code",
            "source": [
                ""
            ],
            "metadata": {
                "azdata_cell_guid": "b8f88c23-db71-4c10-9b4c-80b28dd5a944",
                "language": "python"
            },
            "outputs": [],
            "execution_count": null
        }
    ]
}